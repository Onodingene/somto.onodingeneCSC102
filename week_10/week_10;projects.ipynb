{
 "cells": [
  {
   "cell_type": "code",
   "execution_count": null,
   "id": "b5abc8e1",
   "metadata": {},
   "outputs": [],
   "source": [
    "# PROJECT 1 \n",
    "class oranges():\n",
    "    def quantity(self):\n",
    "        amount = int(input(\"Enter the number of oranges you want? \"))\n",
    "        if amount > stock_quanity:\n",
    "                print(f\"Please input a quantity less than {stock_quanity}\")\n",
    "                print(\"THANK YOU FOR YOUR PATRONAGE!\")\n",
    "        else:\n",
    "            real_amount = 300 * amount\n",
    "            print(f\"The price of your oranges is {real_amount}\")\n",
    "            print(\"THANK YOU FOR YOUR PATRONAGE!\")\n",
    "print(\"THE ORANGE MARKET\")\n",
    "print(\"An orange costs 300 Naira\")\n",
    "stock_quanity = 20\n",
    "market = oranges()\n",
    "market.quantity()\n",
    "\n",
    "\n"
   ]
  },
  {
   "cell_type": "code",
   "execution_count": 2,
   "id": "6948b9ac",
   "metadata": {},
   "outputs": [
    {
     "name": "stdout",
     "output_type": "stream",
     "text": [
      "WELCOME TO THE CALCULATOR\n",
      "ENTER 1 = Area of Trapezium2 = Area of Rhombus3 = Area of Parallelogram4 = Area of a Cube5 = Volume of a cylinder\n",
      "Enter the formula you want 2\n",
      "Enter diagonal 1 35\n",
      "Enter diagonal 2 67\n",
      "The area of the rhombus is: 1172.5\n"
     ]
    }
   ],
   "source": [
    "# PROJECT 2\n",
    "class equations():\n",
    "    def trapezium(self):\n",
    "        height = int(input(\"Enter your height \"))\n",
    "        base1 = int(input(\"Enter your base 1  \"))\n",
    "        base2 = int(input(\"Enter your base 2 \"))\n",
    "        area = (height/2) * (base1 + base2)\n",
    "        print(f\"The area of the trapezium is : {area}\")\n",
    "\n",
    "    def rhombus(self):\n",
    "        diagonal1 = int(input(\"Enter diagonal 1 \"))\n",
    "        diagonal2 = int(input(\"Enter diagonal 2 \"))\n",
    "        area2 = 0.5 * (diagonal1*diagonal2)\n",
    "        print(f\"The area of the rhombus is: {area2}\")\n",
    "\n",
    "    def parallelogram(self):\n",
    "        base = int(input(\"Enter your base \"))\n",
    "        altitude = int(input(\"Enter your altitude\" ))\n",
    "        area3 = base * altitude\n",
    "        print(f\"The area of the parallelogram is {area3}\")\n",
    "\n",
    "    def cube(self):\n",
    "        length = int(input(\"Enter the length \"))\n",
    "        area4 = 6 * (length **2)\n",
    "        print(f\"The area of the cube is: {area4}\")\n",
    "\n",
    "    def cylinder(self):\n",
    "        radius = int(input(\"Enter the radius \"))\n",
    "        height = int(input(\"Enter the height \"))\n",
    "        volume = 3.14 * (radius **2)*height\n",
    "        print(f\"The volume of the cylinder is: {volume}\")\n",
    "\n",
    "calculation = equations()\n",
    "print(\"WELCOME TO THE CALCULATOR\")\n",
    "print(\"ENTER 1 = Area of Trapezium\"\n",
    "      \"2 = Area of Rhombus\"\n",
    "      \"3 = Area of Parallelogram\"\n",
    "      \"4 = Area of a Cube\"\n",
    "      \"5 = Volume of a cylinder\")\n",
    "user_input = input(\"Enter the formula you want \")\n",
    "if user_input == \"1\":\n",
    "    calculation.trapezium()\n",
    "elif user_input == \"2\":\n",
    "    calculation.rhombus()\n",
    "elif user_input == \"3\":\n",
    "    calculation.parallelogram()\n",
    "elif user_input == \"4\":\n",
    "    calculation.cube()\n",
    "elif user_input == \"5\":\n",
    "    calculation.cylinder()\n",
    "else:\n",
    "    print(\"INPUT A VALID FORMULA\")"
   ]
  },
  {
   "cell_type": "code",
   "execution_count": null,
   "id": "153ecbfb",
   "metadata": {},
   "outputs": [],
   "source": []
  }
 ],
 "metadata": {
  "kernelspec": {
   "display_name": "Python 3 (ipykernel)",
   "language": "python",
   "name": "python3"
  },
  "language_info": {
   "codemirror_mode": {
    "name": "ipython",
    "version": 3
   },
   "file_extension": ".py",
   "mimetype": "text/x-python",
   "name": "python",
   "nbconvert_exporter": "python",
   "pygments_lexer": "ipython3",
   "version": "3.10.9"
  }
 },
 "nbformat": 4,
 "nbformat_minor": 5
}
