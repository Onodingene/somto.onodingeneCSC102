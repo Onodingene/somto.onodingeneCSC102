{
 "cells": [
  {
   "cell_type": "code",
   "execution_count": null,
   "id": "da049d57",
   "metadata": {},
   "outputs": [],
   "source": [
    "PROJECT 1\n",
    "\n",
    "class federal_bursary:\n",
    "\n",
    "    def __init__(self,name,origin):\n",
    "        name = input(\"Enter your full name: \").upper()\n",
    "        origin = input(\"Enter your state of origin \").upper()\n",
    "        self.name = name\n",
    "        self.origin = origin\n",
    "\n",
    "    def bursary(self):\n",
    "        names = [\"MATTHEW AGBONROFO\",\"EDITH AKANBI\",\"MUSA YARADUA\"],\n",
    "        origins =[\"EDOCLAS\",\"ABEOKUTA\",\"KANO\"]\n",
    "        if self.name == \"MATTHEW AGBONROFO\" :\n",
    "            import numpy as np\n",
    "            array = np.array([[\"MATTHEW AGBONROFO\",\"EDITH AKANBI\",\"MUSA YARADUA\"],\n",
    "                              [\"EDOCLAS\",\"ABEOKUTA\",\"KANO\"],\n",
    "                              [15000,25000,20000],\n",
    "                              [20000,15000,3000]])\n",
    "            column_index = 0\n",
    "            column = array[:, column_index]\n",
    "            print(column)\n",
    "        elif self.name == \"EDITH AKANBI\":\n",
    "            import numpy as np\n",
    "            array = np.array([[\"MATTHEW AGBONROFO\", \"EDITH AKANBI\", \"MUSA YARADUA\"],\n",
    "                              [\"EDOCLAS\", \"ABEOKUTA\", \"KANO\"],\n",
    "                              [15000, 25000, 20000],\n",
    "                              [20000, 15000, 3000]])\n",
    "            column_index = 1\n",
    "            print(array[:, column_index])\n",
    "        elif self.name == \"MUSA YARADUA\":\n",
    "            import numpy as np\n",
    "            array = np.array([[\"MATTHEW AGBONROFO\", \"EDITH AKANBI\", \"MUSA YARADUA\"],\n",
    "                              [\"EDOCLAS\", \"ABEOKUTA\", \"KANO\"],\n",
    "                              [15000, 25000, 20000],\n",
    "                              [20000, 15000, 30000]])\n",
    "            column_index = 2\n",
    "            print(array[:, column_index])\n",
    "        else:\n",
    "            print(\"ERROR!\")\n",
    "\n",
    "nigeria = federal_bursary('MATTHEW AGBONROFO','EDOCLAS')\n",
    "nigeria.bursary()"
   ]
  }
 ],
 "metadata": {
  "kernelspec": {
   "display_name": "Python 3 (ipykernel)",
   "language": "python",
   "name": "python3"
  },
  "language_info": {
   "codemirror_mode": {
    "name": "ipython",
    "version": 3
   },
   "file_extension": ".py",
   "mimetype": "text/x-python",
   "name": "python",
   "nbconvert_exporter": "python",
   "pygments_lexer": "ipython3",
   "version": "3.10.9"
  }
 },
 "nbformat": 4,
 "nbformat_minor": 5
}
