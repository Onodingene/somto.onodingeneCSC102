{
 "cells": [
  {
   "cell_type": "code",
   "execution_count": 1,
   "id": "c92c01a0",
   "metadata": {},
   "outputs": [
    {
     "name": "stdout",
     "output_type": "stream",
     "text": [
      "Im first call to user defined function!\n",
      "Again second call to the same function\n"
     ]
    }
   ],
   "source": [
    "# practice 1\n",
    "def printme(str):\n",
    "    print(str);\n",
    "    return;\n",
    "printme(\"Im first call to user defined function!\")\n",
    "printme(\"Again second call to the same function\")"
   ]
  },
  {
   "cell_type": "code",
   "execution_count": 2,
   "id": "ee06601a",
   "metadata": {},
   "outputs": [
    {
     "name": "stdout",
     "output_type": "stream",
     "text": [
      "Values inside the function:  [10, 20, 30, [1, 2, 3, 4]]\n",
      "Values outside the function:  [10, 20, 30, [1, 2, 3, 4]]\n"
     ]
    }
   ],
   "source": [
    "# practice 2\n",
    "def changeme (mylist):\n",
    "    mylist.append([1,2,3,4])\n",
    "    print(\"Values inside the function: \",mylist)\n",
    "    return\n",
    "mylist = [10,20,30]\n",
    "changeme(mylist)\n",
    "print(\"Values outside the function: \",mylist)"
   ]
  },
  {
   "cell_type": "code",
   "execution_count": 7,
   "id": "3c41749a",
   "metadata": {},
   "outputs": [
    {
     "name": "stdout",
     "output_type": "stream",
     "text": [
      "Values inisde the function:  [1, 2, 3, 4]\n",
      "Values outsude the function:  [10, 20, 30]\n"
     ]
    }
   ],
   "source": [
    "# practice 3\n",
    "def changme(mylist):\n",
    "    mylist = [1,2,3,4];\n",
    "    print(\"Values inisde the function: \",mylist)\n",
    "    return\n",
    "mylist = [10,20,30];\n",
    "changme(mylist);\n",
    "print(\"Values outsude the function: \", mylist)"
   ]
  },
  {
   "cell_type": "code",
   "execution_count": 10,
   "id": "02cb91f2",
   "metadata": {},
   "outputs": [
    {
     "name": "stdout",
     "output_type": "stream",
     "text": [
      "<class 'str'>\n"
     ]
    }
   ],
   "source": [
    "# practice 4\n",
    "def printme(str):\n",
    "    print(str);\n",
    "    return;\n",
    "printme(str);"
   ]
  },
  {
   "cell_type": "code",
   "execution_count": 11,
   "id": "3fe724e0",
   "metadata": {},
   "outputs": [
    {
     "name": "stdout",
     "output_type": "stream",
     "text": [
      "My string\n"
     ]
    }
   ],
   "source": [
    "# practice 5\n",
    "def printme(str):\n",
    "    print(str);\n",
    "    return;\n",
    "printme(str = \"My string\")"
   ]
  },
  {
   "cell_type": "code",
   "execution_count": 14,
   "id": "beec6a39",
   "metadata": {},
   "outputs": [
    {
     "name": "stdout",
     "output_type": "stream",
     "text": [
      "Name: miki\n",
      "Age 50\n"
     ]
    }
   ],
   "source": [
    "# practice 6\n",
    "def printinfo(name,age):\n",
    "    print(\"Name:\",name);\n",
    "    print(\"Age\", age);\n",
    "    return;\n",
    "printinfo(age=50,name=\"miki\");    "
   ]
  },
  {
   "cell_type": "code",
   "execution_count": 16,
   "id": "708ee299",
   "metadata": {},
   "outputs": [
    {
     "name": "stdout",
     "output_type": "stream",
     "text": [
      "Name:  Miki\n",
      "Age:  50\n",
      "Name:  Miki\n",
      "Age:  35\n"
     ]
    }
   ],
   "source": [
    "# practice 7\n",
    "def printinfo(name, age = 35):\n",
    "    print(\"Name: \",name);\n",
    "    print(\"Age: \",age);\n",
    "    return;\n",
    "printinfo(age = 50, name=\"Miki\");\n",
    "printinfo(name =\"Miki\");"
   ]
  },
  {
   "cell_type": "code",
   "execution_count": 21,
   "id": "83d9c5de",
   "metadata": {},
   "outputs": [
    {
     "name": "stdout",
     "output_type": "stream",
     "text": [
      "Outpus is: \n",
      "10\n",
      "Outpus is: \n",
      "70\n",
      "60\n"
     ]
    }
   ],
   "source": [
    "# practice 8\n",
    "def printinfo(arg1, *vartuple):\n",
    "    print(\"Outpus is: \")\n",
    "    print(arg1)\n",
    "    for var in vartuple:\n",
    "        print(var)\n",
    "        return;\n",
    "printinfo( 10 );\n",
    "printinfo(70,60,50);"
   ]
  },
  {
   "cell_type": "code",
   "execution_count": 22,
   "id": "c2f596a4",
   "metadata": {},
   "outputs": [
    {
     "name": "stdout",
     "output_type": "stream",
     "text": [
      "Inside the function local total :   30\n",
      "Outside the function global total :  50\n"
     ]
    }
   ],
   "source": [
    "# practice 9\n",
    "total = 50;\n",
    "def sum(arg1,arg2):\n",
    "    total = arg1 + arg2;\n",
    "    print(\"Inside the function local total :  \",total)\n",
    "    return total;\n",
    "sum(10,20);\n",
    "print(\"Outside the function global total : \",total)\n",
    "    "
   ]
  },
  {
   "cell_type": "code",
   "execution_count": 23,
   "id": "489084e8",
   "metadata": {},
   "outputs": [
    {
     "name": "stdout",
     "output_type": "stream",
     "text": [
      "Lawal Edward Tolu Tina\n",
      "Mary\n"
     ]
    }
   ],
   "source": [
    "# practice 10\n",
    "def swap(x,y):\n",
    "    global a\n",
    "    a = \"Lawal\"\n",
    "    x,y = y,x\n",
    "\n",
    "    b = \"Chris\"\n",
    "    b = \"Edward\"\n",
    "    c= \"Lola\"\n",
    "    print(a,b,x,y)\n",
    "    a = \"Mary\"\n",
    "swap(\"Tina\",\"Tolu\")\n",
    "print(a)"
   ]
  },
  {
   "cell_type": "code",
   "execution_count": null,
   "id": "23954342",
   "metadata": {},
   "outputs": [],
   "source": []
  }
 ],
 "metadata": {
  "kernelspec": {
   "display_name": "Python 3 (ipykernel)",
   "language": "python",
   "name": "python3"
  },
  "language_info": {
   "codemirror_mode": {
    "name": "ipython",
    "version": 3
   },
   "file_extension": ".py",
   "mimetype": "text/x-python",
   "name": "python",
   "nbconvert_exporter": "python",
   "pygments_lexer": "ipython3",
   "version": "3.10.9"
  }
 },
 "nbformat": 4,
 "nbformat_minor": 5
}
