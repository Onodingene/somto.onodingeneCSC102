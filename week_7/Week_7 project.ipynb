{
 "cells": [
  {
   "cell_type": "code",
   "execution_count": null,
   "id": "40838c3f",
   "metadata": {},
   "outputs": [],
   "source": [
    "# PYTHON PROJECT 1; WEEK_7\n",
    "\n",
    "# print(\"J-T VENTURES EMPLOYEE VERIFICATION\")\n",
    "first_name = input(\"Please, input your first name \").lower()\n",
    "department = input(\"Please input your department \").lower()\n",
    "employee_names = [\"oluwatamilore\",\"ayomide\",\"oshim\",\"chukwunonye\",\"chiemeziem\",\"oluwatimilehin\",\"osose\",\"daniel\",\"onyekachi\",\"shalom\",\"nedi\",\"stephanie\",\"jason\",\"edward\",\"otu\",\"onyinyechi\",\"makuochukwu\",\"moyosore\",\"ayonete\",\"eche\",\"michael\",\"oluwadamilola\",\"chijindu\",\"joseph\",\"daisy\",\"samuel\",\"betha\",\"boluwatife\",\"mary\",\"rapahel\",\"victor\",\"derek\",\"aakorede\",\"rasheed\",\"daniel\",\"mary-cynthia\",\"owoede\",\"oluwafikunmi\",\"uchenna\",\"ejike\"]\n",
    "employee_department = ['logistics','accounting','delivery','accounting','logistics','accounting','logistics','delivery','delivery','delivery','logistics','accounting','administration','delivery','administration','administration','logistics','accounting','accounting','accounting','logistics','logistics','delivery','delivery','administration']\n",
    "\n",
    "if first_name in employee_names and department in employee_department:\n",
    "    print(\"WELCOME TO JT DELIVERY VENTURE!\")\n",
    "    print(f\"{first_name}, you are a verified employee in the {department} department\")\n",
    "    import pandas as pd\n",
    "    data = pd.read_csv('jt-ventures.csv')\n",
    "    print(data)\n",
    "else:\n",
    "    print(\"VERIFICATION FAILED!\")\n",
    "    print(f\"{first_name} does not exist on the employee verification page\")"
   ]
  },
  {
   "cell_type": "code",
   "execution_count": null,
   "id": "6b7fa302",
   "metadata": {},
   "outputs": [
    {
     "name": "stdout",
     "output_type": "stream",
     "text": [
      "WELCOME TO YEGA SERVICES!!!\n"
     ]
    }
   ],
   "source": [
    "# PROJECT 2\n",
    "print(\"WELCOME TO YEGA SERVICES!!!\")\n",
    "location = input(\"Which location do you want your package to be delivered to? \").lower()\n",
    "weight = int(input(\"How much does your package weigh in kg? \"))\n",
    "\n",
    "if location == 'ibeju-lekki' and weight >= 10:\n",
    "    print(\"Your delivery fee is 2000 Naira\")\n",
    "elif location == 'ibeju-lekki' and weight < 10:\n",
    "    print(\"Your delivery fee is 1500 Naira\")\n",
    "elif location == 'epe' and weight >= 10:\n",
    "    print(\"Your delivery fee is 5000 Naira \")\n",
    "elif location == 'epe' and weight < 10:\n",
    "    print(\"Your delivery location is 4000 Naira\")\n",
    "else:\n",
    "     print(\"Please tye in a valid location and weight \")"
   ]
  },
  {
   "cell_type": "code",
   "execution_count": 1,
   "id": "8c355fb1",
   "metadata": {},
   "outputs": [
    {
     "name": "stdout",
     "output_type": "stream",
     "text": [
      "WELCOME TO PAU ADMISSIONS FOR COMPUTER SCIENCE AND MASS COMMMUNICATION\n",
      "\n",
      "What is your name? oh\n",
      "\n",
      "Do you intend to study computer science or Mass communication\n",
      "Input 'C' for Computer science and 'M' for mass communication c\n",
      "Input your JAMB score250\n",
      "Input your grade for the following POST UTME subjects \n",
      "\n",
      "Physics - h\n",
      "Chemistry - n\n",
      "Mathematics - n\n",
      "English -n\n",
      "Biology - n\n"
     ]
    },
    {
     "ename": "NameError",
     "evalue": "name 'D7' is not defined",
     "output_type": "error",
     "traceback": [
      "\u001b[1;31m---------------------------------------------------------------------------\u001b[0m",
      "\u001b[1;31mNameError\u001b[0m                                 Traceback (most recent call last)",
      "Cell \u001b[1;32mIn[1], line 20\u001b[0m\n\u001b[0;32m     18\u001b[0m biology \u001b[38;5;241m=\u001b[39m \u001b[38;5;28minput\u001b[39m(\u001b[38;5;124m\"\u001b[39m\u001b[38;5;124mBiology - \u001b[39m\u001b[38;5;124m\"\u001b[39m)\u001b[38;5;241m.\u001b[39mupper()\n\u001b[0;32m     19\u001b[0m subjects \u001b[38;5;241m=\u001b[39m physics,chemistry,math,english,biology\n\u001b[1;32m---> 20\u001b[0m low \u001b[38;5;241m=\u001b[39m \u001b[43mD7\u001b[49m,E8,F9\n\u001b[0;32m     22\u001b[0m \u001b[38;5;28;01mif\u001b[39;00m jamb \u001b[38;5;241m<\u001b[39m \u001b[38;5;241m230\u001b[39m \u001b[38;5;129;01mor\u001b[39;00m subjects \u001b[38;5;241m==\u001b[39m low:\n\u001b[0;32m     23\u001b[0m     \u001b[38;5;28mprint\u001b[39m(\u001b[38;5;124mf\u001b[39m\u001b[38;5;124m\"\u001b[39m\u001b[38;5;124mSorry,\u001b[39m\u001b[38;5;132;01m{\u001b[39;00mname\u001b[38;5;132;01m}\u001b[39;00m\u001b[38;5;124m you do not meet the requirements to be a computer scientist\u001b[39m\u001b[38;5;124m\"\u001b[39m)\n",
      "\u001b[1;31mNameError\u001b[0m: name 'D7' is not defined"
     ]
    }
   ],
   "source": []
  },
  {
   "cell_type": "code",
   "execution_count": null,
   "id": "bf760bff",
   "metadata": {},
   "outputs": [
    {
     "name": "stdout",
     "output_type": "stream",
     "text": [
      "WELCOME TO PAU ADMISSIONS FOR COMPUTER SCIENCE AND MASS COMMMUNICATION\n",
      "\n"
     ]
    }
   ],
   "source": [
    "             \n",
    "import pandas as pd\n",
    "print(\"WELCOME TO PAU ADMISSIONS FOR COMPUTER SCIENCE AND MASS COMMMUNICATION\")\n",
    "print()\n",
    "name = input(\"Input your full name \")\n",
    "print()\n",
    "print(\"Do you intend to study computer science or Mass communication\")\n",
    "y_n = input(\"Input 'C' for Computer science and 'M' for mass communication \").upper()\n",
    "computer_science = \"C\"\n",
    "mass_communication = \"M\"\n",
    "if y_n == \"C\":\n",
    "    jamb = int(input(\"Input your JAMB score\"))\n",
    "    print(\"Input your grade for the following POST UTME subjects \")\n",
    "    print()\n",
    "\n",
    "    physics = input(\"Physics - \").lower()\n",
    "    chemistry = input(\"Chemistry - \").lower()\n",
    "    math = input(\"Mathematics - \").lower()\n",
    "    english = input(\"English - \").lower()\n",
    "    biology = input(\"Biology - \").lower()\n",
    "    subjects = physics,chemistry,math,english,biology\n",
    "    print()\n",
    "    print(\"Did you pass the interview? \")\n",
    "    y = \"yes\"\n",
    "    n = \"no\"\n",
    "    interview = input(\"Input Y for YES and N for NO \").lower()\n",
    "\n",
    "    if jamb < 230 or interview == \"n\" or subjects == \"d7\" or subjects == \"e8\" or subjects == \"f9\":\n",
    "        print(f\"Sorry,{name} you do not meet the requirements to be a computer scientist\")\n",
    "        cap = {'NAME': [\",\",\"\",\"\",\"\"],\n",
    "                   'JAMB SCORE': [\"\", \"\", \"\", \"\"],\n",
    "                   'POST UTME': [\"\", \"\", \"\", \"\"]}\n",
    "        df = pd.DataFrame(cap)\n",
    "        df.to_csv('not_admitted.csv')\n",
    "        rat = pd.read_csv('not_admitted.csv')\n",
    "        print(rat)\n",
    "    else:\n",
    "        print(f\"Congratulations,{name},you are eligible to study computer science\")\n",
    "        records = {'NAME': [\"\", \"\", \"\", \"\"],\n",
    "                   'JAMB SCORE': [\"\", \"\", \"\", \"\"],\n",
    "                   'POST UTME': [\"\", \"\", \"\", \"\"]}\n",
    "        df = pd.DataFrame(records)\n",
    "        df.to_csv('admitted.csv')\n",
    "        data = pd.read_csv('admitted.csv')\n",
    "        print(data)\n",
    "elif y_n == \"M\":\n",
    "\n",
    "    jamb = int(input(\"Input your JAMB score\"))\n",
    "    print(\"Input your grade for the following POST UTME subjects \")\n",
    "    print()\n",
    "\n",
    "    government = input(\"Government - \").lower()\n",
    "    literature = input(\"Literature - \").lower()\n",
    "    math = input(\"Mathematics - \").lower()\n",
    "    english = input(\"English - \").lower()\n",
    "    history = input(\"History - \").lower()\n",
    "    subjects = government, literature, math, english, history\n",
    "    print()\n",
    "    print(\"Did you pass the interview? \")\n",
    "    y = \"yes\"\n",
    "    n = \"no\"\n",
    "    interview = input(\"Input Y for YES and N for NO \").lower()\n",
    "\n",
    "    if jamb < 220 or interview == \"n\" or subjects == \"d7\" or subjects == \"e8\" or subjects == \"f9\":\n",
    "        print(f\"Sorry,{name} you do not meet the requirements to be a mass communication\")\n",
    "    else:\n",
    "        print(f\"Congratulations,{name},you are eligible to study mass communication\")\n",
    "else:\n",
    "    print(\"please input a valid course\")\n"
   ]
  },
  {
   "cell_type": "code",
   "execution_count": null,
   "id": "fd903e99",
   "metadata": {},
   "outputs": [],
   "source": []
  }
 ],
 "metadata": {
  "kernelspec": {
   "display_name": "Python 3 (ipykernel)",
   "language": "python",
   "name": "python3"
  },
  "language_info": {
   "codemirror_mode": {
    "name": "ipython",
    "version": 3
   },
   "file_extension": ".py",
   "mimetype": "text/x-python",
   "name": "python",
   "nbconvert_exporter": "python",
   "pygments_lexer": "ipython3",
   "version": "3.10.9"
  }
 },
 "nbformat": 4,
 "nbformat_minor": 5
}
