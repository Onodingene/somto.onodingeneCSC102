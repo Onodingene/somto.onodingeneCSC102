{
 "cells": [
  {
   "cell_type": "code",
   "execution_count": 6,
   "id": "0bf6c911",
   "metadata": {},
   "outputs": [
    {
     "name": "stdout",
     "output_type": "stream",
     "text": [
      "Do you want a german shepard or chihuahua?german shepard\n",
      "Do you want an adult or puppy?puppy\n"
     ]
    }
   ],
   "source": [
    "class dog():\n",
    "    def german_shepard(self):\n",
    "        ask=input(\"Do you want an adult or puppy?\")\n",
    "    def chihuahua(self):\n",
    "        small =input(\"What colour do you want?\")\n",
    "somto = dog()\n",
    "fiona =input(\"Do you want a german shepard or chihuahua?\")\n",
    "if fiona == \"german shepard\":\n",
    "    somto.german_shepard()\n",
    "if fiona == \"chihuahua\":\n",
    "    somto.chihuahua()\n"
   ]
  },
  {
   "cell_type": "code",
   "execution_count": null,
   "id": "a6d7ec4c",
   "metadata": {},
   "outputs": [],
   "source": []
  },
  {
   "cell_type": "code",
   "execution_count": null,
   "id": "6ad5b2d6",
   "metadata": {},
   "outputs": [],
   "source": []
  }
 ],
 "metadata": {
  "kernelspec": {
   "display_name": "Python 3 (ipykernel)",
   "language": "python",
   "name": "python3"
  },
  "language_info": {
   "codemirror_mode": {
    "name": "ipython",
    "version": 3
   },
   "file_extension": ".py",
   "mimetype": "text/x-python",
   "name": "python",
   "nbconvert_exporter": "python",
   "pygments_lexer": "ipython3",
   "version": "3.10.9"
  }
 },
 "nbformat": 4,
 "nbformat_minor": 5
}
